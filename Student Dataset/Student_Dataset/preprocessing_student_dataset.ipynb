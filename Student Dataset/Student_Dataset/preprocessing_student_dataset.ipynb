{
 "cells": [
  {
   "cell_type": "markdown",
   "id": "0e1f3cb3",
   "metadata": {},
   "source": [
    "# Student Dataset"
   ]
  },
  {
   "cell_type": "code",
   "execution_count": 3,
   "id": "0f0e0cf9",
   "metadata": {},
   "outputs": [],
   "source": [
    "import pandas as pd\n",
    "df = pd.read_csv(\"bi.csv\", encoding = \"ISO-8859-1\")"
   ]
  },
  {
   "cell_type": "markdown",
   "id": "94b92e31",
   "metadata": {},
   "source": [
    "### Level 1: Tasks – Data Cleaning, Missing Data, Outliers"
   ]
  },
  {
   "cell_type": "markdown",
   "id": "55b869a8",
   "metadata": {},
   "source": [
    "##### Part 1 – Data Cleaning "
   ]
  },
  {
   "cell_type": "markdown",
   "id": "35c1aaa9",
   "metadata": {},
   "source": [
    "| Column Name    | Description                                                                                   | Type         |\n",
    "|----------------|----------------------------------------------------------------------------------------------|--------------|\n",
    "| fNAME          | First name of the student.                                                                   | Categorical  |\n",
    "| lNAME          | Last name of the student.                                                                    | Categorical  |\n",
    "| Age            | Age of the student in years.                                                                 | Numerical    |\n",
    "| gender         | Gender of the student (Male/Female).                                                         | Categorical  |\n",
    "| country        | Country of origin of the student.                                                            | Categorical  |\n",
    "| residence      | Current residence or type of residence (e.g., BI Residence, Private).                        | Categorical  |\n",
    "| entryEXAM      | Score obtained in the entry exam (out of 100).                                               | Numerical    |\n",
    "| prevEducation  | Highest level of education completed (High School, Diploma, Bachelor, Masters, Doctorate).   | Categorical  |\n",
    "| studyHOURS     | Number of hours spent studying weekly.                                                       | Numerical    |\n",
    "| Python         | Score achieved in the Python programming course (out of 100).                                | Numerical    |\n",
    "| DB             | Score achieved in the Database (DB) course (out of 100).                                    | Numerical    |\n",
    "\n",
    "\n",
    "\n",
    "\n",
    "---\n",
    "---\n"
   ]
  },
  {
   "cell_type": "code",
   "execution_count": null,
   "id": "131ff93f",
   "metadata": {},
   "outputs": [
    {
     "name": "stdout",
     "output_type": "stream",
     "text": [
      "<class 'pandas.core.frame.DataFrame'>\n",
      "RangeIndex: 77 entries, 0 to 76\n",
      "Data columns (total 11 columns):\n",
      " #   Column         Non-Null Count  Dtype  \n",
      "---  ------         --------------  -----  \n",
      " 0   fNAME          77 non-null     object \n",
      " 1   lNAME          77 non-null     object \n",
      " 2   Age            77 non-null     int64  \n",
      " 3   gender         77 non-null     object \n",
      " 4   country        77 non-null     object \n",
      " 5   residence      77 non-null     object \n",
      " 6   entryEXAM      77 non-null     int64  \n",
      " 7   prevEducation  77 non-null     object \n",
      " 8   studyHOURS     77 non-null     int64  \n",
      " 9   Python         75 non-null     float64\n",
      " 10  DB             77 non-null     int64  \n",
      "dtypes: float64(1), int64(4), object(6)\n",
      "memory usage: 6.7+ KB\n"
     ]
    }
   ],
   "source": [
    "# Check dataset structure\n",
    "\n",
    "shape = df.shape #(77, 11)\n",
    "df.tail() #df.head()\n",
    "df.sample(5)\n",
    "df.info()\n",
    "# df.describe()"
   ]
  },
  {
   "cell_type": "markdown",
   "id": "6a8c32fb",
   "metadata": {},
   "source": [
    "- Gender column contains more than two categories (should be only Male/Female)\n",
    "- prevEducation values are case sensitive and inconsistent (e.g., \"High School\" vs \"HighSchool\")\n",
    "- Python & DB columns should be of type float or int\n",
    "- Python column has missing values (75 non-null out of 77)"
   ]
  },
  {
   "cell_type": "code",
   "execution_count": 22,
   "id": "a7e6c846",
   "metadata": {},
   "outputs": [
    {
     "data": {
      "text/plain": [
       "array(['Norway', 'Kenya', 'Uganda', 'Rsa', 'South Africa', 'Norge',\n",
       "       'norway', 'Denmark', 'Netherlands', 'Italy', 'Spain', 'UK',\n",
       "       'Somali', 'Nigeria', 'Germany', 'France'], dtype=object)"
      ]
     },
     "execution_count": 22,
     "metadata": {},
     "output_type": "execute_result"
    }
   ],
   "source": [
    "#Detect inconsistent categories\n",
    "\n",
    "#Nothing\n",
    "fname = df['fNAME'].unique()\n",
    "lname = df['lNAME'].unique()\n",
    "age = df['Age'].unique()\n",
    "db = df['DB'].unique()\n",
    "study = df['studyHOURS'].unique()\n",
    "entryEXAM = df['entryEXAM'].unique()\n",
    "\n",
    "gender = df['gender'].unique()\n",
    "country = df['country'].unique()\n",
    "residence = df['residence'].unique()\n",
    "pre = df['prevEducation'].unique()\n",
    "python = df['Python'].unique() #nan is not recognized\n",
    "\n",
    "country"
   ]
  },
  {
   "cell_type": "markdown",
   "id": "178897de",
   "metadata": {},
   "source": [
    "- As expected gender : ['Female', 'M', 'Male', 'F', 'female', 'male']\n",
    "- In country: Rsa? Norge, norway + Norway?\n",
    "- As expected prevEducation: HighSchool/High School/Barrrchelors/diploma etc\n",
    "- In Residence BI_residence ...\n"
   ]
  },
  {
   "cell_type": "code",
   "execution_count": 36,
   "id": "bd08d36b",
   "metadata": {},
   "outputs": [],
   "source": [
    "# Fixing the above\n",
    "\n",
    "df['gender'] = df['gender'].replace({'F': 'Female', 'female': 'Female', 'M': 'Male', 'male': 'Male'})\n",
    "\n",
    "df['country'] = df['country'].replace({'norway': 'Norway', 'Norge': 'Norway', 'Rsa': 'South Africa'})\n",
    "\n",
    "\n",
    "df['prevEducation'] = df['prevEducation'].replace({\n",
    "    'HighSchool': 'High School',\n",
    "    'Barrrchelors': 'Bachelors',\n",
    "    'diploma': 'Diploma',\n",
    "    'DIPLOMA': 'Diploma',\n",
    "    'Diplomaaa': 'Diploma' })\n",
    "\n",
    "df['residence'] = df['residence'].replace({ 'BIResidence': 'BI Residence', 'BI_Residence': 'BI Residence', 'BI-Residence': 'BI Residence'})\n",
    "\n",
    "df['Python'] = pd.to_numeric(df['Python'])\n",
    "df['DB'] = pd.to_numeric(df['DB'])"
   ]
  },
  {
   "cell_type": "code",
   "execution_count": null,
   "id": "e025e96f",
   "metadata": {},
   "outputs": [
    {
     "name": "stdout",
     "output_type": "stream",
     "text": [
      "<class 'pandas.core.frame.DataFrame'>\n",
      "RangeIndex: 77 entries, 0 to 76\n",
      "Data columns (total 11 columns):\n",
      " #   Column         Non-Null Count  Dtype  \n",
      "---  ------         --------------  -----  \n",
      " 0   fNAME          77 non-null     object \n",
      " 1   lNAME          77 non-null     object \n",
      " 2   Age            77 non-null     int64  \n",
      " 3   gender         77 non-null     object \n",
      " 4   country        77 non-null     object \n",
      " 5   residence      77 non-null     object \n",
      " 6   entryEXAM      77 non-null     int64  \n",
      " 7   prevEducation  77 non-null     object \n",
      " 8   studyHOURS     77 non-null     int64  \n",
      " 9   Python         75 non-null     float64\n",
      " 10  DB             77 non-null     int64  \n",
      "dtypes: float64(1), int64(4), object(6)\n",
      "memory usage: 6.7+ KB\n"
     ]
    }
   ],
   "source": [
    "#Handle duplicates\n",
    "df.duplicated().sum()"
   ]
  },
  {
   "cell_type": "markdown",
   "id": "05bf246f",
   "metadata": {},
   "source": [
    "---\n",
    "##### Part 2 – Missing Data"
   ]
  },
  {
   "cell_type": "code",
   "execution_count": 54,
   "id": "e466dd2a",
   "metadata": {},
   "outputs": [
    {
     "name": "stdout",
     "output_type": "stream",
     "text": [
      "<class 'pandas.core.frame.DataFrame'>\n",
      "RangeIndex: 77 entries, 0 to 76\n",
      "Data columns (total 11 columns):\n",
      " #   Column         Non-Null Count  Dtype  \n",
      "---  ------         --------------  -----  \n",
      " 0   fNAME          77 non-null     object \n",
      " 1   lNAME          77 non-null     object \n",
      " 2   Age            77 non-null     int64  \n",
      " 3   gender         77 non-null     object \n",
      " 4   country        77 non-null     object \n",
      " 5   residence      77 non-null     object \n",
      " 6   entryEXAM      77 non-null     int64  \n",
      " 7   prevEducation  77 non-null     object \n",
      " 8   studyHOURS     77 non-null     int64  \n",
      " 9   Python         77 non-null     float64\n",
      " 10  DB             77 non-null     int64  \n",
      "dtypes: float64(1), int64(4), object(6)\n",
      "memory usage: 6.7+ KB\n"
     ]
    }
   ],
   "source": [
    "#Identify missing values\n",
    "df.isnull().sum()\n",
    "num_missing_python = df['Python'].isnull()\n",
    "mean = df['Python'].mean().round()\n",
    "\n",
    "df['Python'] = df['Python'].fillna(mean)\n",
    "python = df['Python'].unique()\n",
    "df.info()"
   ]
  }
 ],
 "metadata": {
  "kernelspec": {
   "display_name": "base",
   "language": "python",
   "name": "python3"
  },
  "language_info": {
   "codemirror_mode": {
    "name": "ipython",
    "version": 3
   },
   "file_extension": ".py",
   "mimetype": "text/x-python",
   "name": "python",
   "nbconvert_exporter": "python",
   "pygments_lexer": "ipython3",
   "version": "3.13.5"
  }
 },
 "nbformat": 4,
 "nbformat_minor": 5
}
